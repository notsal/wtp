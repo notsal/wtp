{
 "cells": [
  {
   "cell_type": "markdown",
   "metadata": {},
   "source": [
    "##### https://dainstudios.com/2020/03/20/text-visualization-of-stand-up-comedy-with-scattertext/\n",
    "\n",
    "##### https://github.com/JasonKessler/scattertext#tutorial"
   ]
  },
  {
   "cell_type": "code",
   "execution_count": 1,
   "metadata": {},
   "outputs": [],
   "source": [
    "import pandas as pd\n",
    "import en_core_web_sm\n",
    "import gensim\n",
    "import gensim.corpora as corpora\n",
    "import nltk\n",
    "import spacy\n",
    "import sklearn\n",
    "import gzip\n",
    "import json\n",
    "\n",
    "from nltk.corpus import stopwords\n",
    "from gensim.utils import simple_preprocess, simple_tokenize\n",
    "from gensim.models import CoherenceModel\n",
    "from gensim.models.phrases import Phraser\n",
    "from pprint import pprint\n",
    "\n",
    "# Plotting tools\n",
    "import matplotlib.pyplot as plt\n",
    "#get_ipython().run_line_magic('matplotlib', 'inline')\n",
    "\n",
    "import warnings\n",
    "warnings.filterwarnings('ignore')\n",
    "\n",
    "nlp = spacy.load(\"en_core_web_sm\")"
   ]
  },
  {
   "cell_type": "code",
   "execution_count": 2,
   "metadata": {},
   "outputs": [],
   "source": [
    "# functions\n",
    "\n",
    "# read in subtitles and remove YouTube's auto-generated audio descriptions\n",
    "def read_and_clean(patch_number):\n",
    "    path = 'C:/Users/Sally/WTP/data/'\n",
    "    open_patch = open(path+f\"Patch {patch_number}_ At Home with Patchwork _ YouTube Live Stream - English (auto.txt\").read()\n",
    "    clean_patch = open_patch.replace('\\n\\n',' ').replace('[Music] ','').replace('[Laughter] ','')\n",
    "    return clean_patch\n",
    "\n",
    "# turn the strings into words\n",
    "def sent_to_words(your_list):\n",
    "    for item in your_list:\n",
    "        #yield(gensim.utils.simple_preprocess(str(item),deacc=False,min_len=3))\n",
    "        yield(gensim.utils.simple_preprocess(str(item),deacc=False,min_len=0))\n",
    "        \n",
    "\n",
    "# read in subtitles and remove YouTube's auto-generated audio descriptions\n",
    "def read_and_clean_alt(filename):\n",
    "    path = 'C:/Users/Sally/WTP/data/'\n",
    "    open_patch = open(path+f\"{filename}.txt\").read()\n",
    "    clean_patch = open_patch.replace('\\n\\n',' ').replace('[Music] ','').replace('[Laughter] ','')\n",
    "    return clean_patch"
   ]
  },
  {
   "cell_type": "code",
   "execution_count": 79,
   "metadata": {},
   "outputs": [],
   "source": [
    "p64 = read_and_clean(64)\n",
    "p65 = read_and_clean(65)\n",
    "p66 = read_and_clean(66)\n",
    "p67 = read_and_clean(67)\n",
    "p68 = read_and_clean(68)\n",
    "p69 = read_and_clean(69)\n",
    "\n",
    "p01 = read_and_clean_alt('At Home with Patchwork')\n",
    "p02 = read_and_clean_alt('At Home with Patchwork _ Sat 4th April - English (auto')\n",
    "\n",
    "all_patches = [p01,p02,p64,p65,p66,p67,p68,p69]"
   ]
  },
  {
   "cell_type": "code",
   "execution_count": 4,
   "metadata": {},
   "outputs": [],
   "source": [
    "#uses simple_preprocess\n",
    "\n",
    "data_words = list(sent_to_words(all_patches))"
   ]
  },
  {
   "cell_type": "code",
   "execution_count": 94,
   "metadata": {},
   "outputs": [],
   "source": [
    "import scattertext as st\n",
    "from scattertext import produce_scattertext_explorer\n",
    "\n",
    "#from scattertext import SampleCorpora, PhraseMachinePhrases, dense_rank, RankDifference, AssociationCompactor"
   ]
  },
  {
   "cell_type": "code",
   "execution_count": 100,
   "metadata": {},
   "outputs": [],
   "source": [
    "df = pd.DataFrame({'patch':['P01','P02','P64','P65','P66','P67','P68','P69'],'text':all_patches})"
   ]
  },
  {
   "cell_type": "code",
   "execution_count": 101,
   "metadata": {},
   "outputs": [
    {
     "data": {
      "text/html": [
       "<div>\n",
       "<style scoped>\n",
       "    .dataframe tbody tr th:only-of-type {\n",
       "        vertical-align: middle;\n",
       "    }\n",
       "\n",
       "    .dataframe tbody tr th {\n",
       "        vertical-align: top;\n",
       "    }\n",
       "\n",
       "    .dataframe thead th {\n",
       "        text-align: right;\n",
       "    }\n",
       "</style>\n",
       "<table border=\"1\" class=\"dataframe\">\n",
       "  <thead>\n",
       "    <tr style=\"text-align: right;\">\n",
       "      <th></th>\n",
       "      <th>patch</th>\n",
       "      <th>text</th>\n",
       "    </tr>\n",
       "  </thead>\n",
       "  <tbody>\n",
       "    <tr>\n",
       "      <th>0</th>\n",
       "      <td>P01</td>\n",
       "      <td>patch workers welcome it's great to see dotted...</td>\n",
       "    </tr>\n",
       "    <tr>\n",
       "      <th>1</th>\n",
       "      <td>P02</td>\n",
       "      <td>hello patchwork is good to see you all I'm Jos...</td>\n",
       "    </tr>\n",
       "    <tr>\n",
       "      <th>2</th>\n",
       "      <td>P64</td>\n",
       "      <td>you hello and welcome to patch 64 what a disas...</td>\n",
       "    </tr>\n",
       "    <tr>\n",
       "      <th>3</th>\n",
       "      <td>P65</td>\n",
       "      <td>hello hatch work is good to not see you lovely...</td>\n",
       "    </tr>\n",
       "    <tr>\n",
       "      <th>4</th>\n",
       "      <td>P66</td>\n",
       "      <td>so good my so hello patchworkers lovely to uh ...</td>\n",
       "    </tr>\n",
       "    <tr>\n",
       "      <th>5</th>\n",
       "      <td>P67</td>\n",
       "      <td>do so hello patchworkers good to see you throu...</td>\n",
       "    </tr>\n",
       "    <tr>\n",
       "      <th>6</th>\n",
       "      <td>P68</td>\n",
       "      <td>hello good to see you one way hello Christian ...</td>\n",
       "    </tr>\n",
       "    <tr>\n",
       "      <th>7</th>\n",
       "      <td>P69</td>\n",
       "      <td>you hello good to see there good to see you di...</td>\n",
       "    </tr>\n",
       "  </tbody>\n",
       "</table>\n",
       "</div>"
      ],
      "text/plain": [
       "  patch                                               text\n",
       "0   P01  patch workers welcome it's great to see dotted...\n",
       "1   P02  hello patchwork is good to see you all I'm Jos...\n",
       "2   P64  you hello and welcome to patch 64 what a disas...\n",
       "3   P65  hello hatch work is good to not see you lovely...\n",
       "4   P66  so good my so hello patchworkers lovely to uh ...\n",
       "5   P67  do so hello patchworkers good to see you throu...\n",
       "6   P68  hello good to see you one way hello Christian ...\n",
       "7   P69  you hello good to see there good to see you di..."
      ]
     },
     "execution_count": 101,
     "metadata": {},
     "output_type": "execute_result"
    }
   ],
   "source": [
    "df"
   ]
  },
  {
   "cell_type": "code",
   "execution_count": 102,
   "metadata": {},
   "outputs": [
    {
     "data": {
      "text/plain": [
       "patch    object\n",
       "text     object\n",
       "dtype: object"
      ]
     },
     "execution_count": 102,
     "metadata": {},
     "output_type": "execute_result"
    }
   ],
   "source": [
    "df.dtypes"
   ]
  },
  {
   "cell_type": "code",
   "execution_count": 108,
   "metadata": {},
   "outputs": [],
   "source": [
    "# chose the patches to compare\n",
    "\n",
    "two_patches = ['P68','P69']\n",
    "\n",
    "df_pair = df[df['patch'].isin(two_patches)]"
   ]
  },
  {
   "cell_type": "code",
   "execution_count": 109,
   "metadata": {},
   "outputs": [
    {
     "data": {
      "text/html": [
       "<div>\n",
       "<style scoped>\n",
       "    .dataframe tbody tr th:only-of-type {\n",
       "        vertical-align: middle;\n",
       "    }\n",
       "\n",
       "    .dataframe tbody tr th {\n",
       "        vertical-align: top;\n",
       "    }\n",
       "\n",
       "    .dataframe thead th {\n",
       "        text-align: right;\n",
       "    }\n",
       "</style>\n",
       "<table border=\"1\" class=\"dataframe\">\n",
       "  <thead>\n",
       "    <tr style=\"text-align: right;\">\n",
       "      <th></th>\n",
       "      <th>patch</th>\n",
       "      <th>text</th>\n",
       "    </tr>\n",
       "  </thead>\n",
       "  <tbody>\n",
       "    <tr>\n",
       "      <th>6</th>\n",
       "      <td>P68</td>\n",
       "      <td>hello good to see you one way hello Christian ...</td>\n",
       "    </tr>\n",
       "    <tr>\n",
       "      <th>7</th>\n",
       "      <td>P69</td>\n",
       "      <td>you hello good to see there good to see you di...</td>\n",
       "    </tr>\n",
       "  </tbody>\n",
       "</table>\n",
       "</div>"
      ],
      "text/plain": [
       "  patch                                               text\n",
       "6   P68  hello good to see you one way hello Christian ...\n",
       "7   P69  you hello good to see there good to see you di..."
      ]
     },
     "execution_count": 109,
     "metadata": {},
     "output_type": "execute_result"
    }
   ],
   "source": [
    "df_pair"
   ]
  },
  {
   "cell_type": "code",
   "execution_count": 110,
   "metadata": {},
   "outputs": [],
   "source": [
    "# parse speech text using spaCy\n",
    "\n",
    "nlp = spacy.load(\"en_core_web_sm\")\n",
    "df_pair['parsed'] = df_pair.text.apply(nlp)"
   ]
  },
  {
   "cell_type": "code",
   "execution_count": 136,
   "metadata": {
    "scrolled": false
   },
   "outputs": [
    {
     "data": {
      "text/html": [
       "<div>\n",
       "<style scoped>\n",
       "    .dataframe tbody tr th:only-of-type {\n",
       "        vertical-align: middle;\n",
       "    }\n",
       "\n",
       "    .dataframe tbody tr th {\n",
       "        vertical-align: top;\n",
       "    }\n",
       "\n",
       "    .dataframe thead th {\n",
       "        text-align: right;\n",
       "    }\n",
       "</style>\n",
       "<table border=\"1\" class=\"dataframe\">\n",
       "  <thead>\n",
       "    <tr style=\"text-align: right;\">\n",
       "      <th></th>\n",
       "      <th>patch</th>\n",
       "      <th>text</th>\n",
       "      <th>parsed</th>\n",
       "    </tr>\n",
       "  </thead>\n",
       "  <tbody>\n",
       "    <tr>\n",
       "      <th>6</th>\n",
       "      <td>P68</td>\n",
       "      <td>hello good to see you one way hello Christian ...</td>\n",
       "      <td>(hello, good, to, see, you, one, way, hello, C...</td>\n",
       "    </tr>\n",
       "    <tr>\n",
       "      <th>7</th>\n",
       "      <td>P69</td>\n",
       "      <td>you hello good to see there good to see you di...</td>\n",
       "      <td>(you, hello, good, to, see, there, good, to, s...</td>\n",
       "    </tr>\n",
       "  </tbody>\n",
       "</table>\n",
       "</div>"
      ],
      "text/plain": [
       "  patch                                               text  \\\n",
       "6   P68  hello good to see you one way hello Christian ...   \n",
       "7   P69  you hello good to see there good to see you di...   \n",
       "\n",
       "                                              parsed  \n",
       "6  (hello, good, to, see, you, one, way, hello, C...  \n",
       "7  (you, hello, good, to, see, there, good, to, s...  "
      ]
     },
     "execution_count": 136,
     "metadata": {},
     "output_type": "execute_result"
    }
   ],
   "source": [
    "df_pair"
   ]
  },
  {
   "cell_type": "code",
   "execution_count": 112,
   "metadata": {},
   "outputs": [],
   "source": [
    "# convert dataframe into Scattertext corpus\n",
    "\n",
    "corpus_pair = st.CorpusFromParsedDocuments(df_pair,category_col='patch',parsed_col='parsed').build()"
   ]
  },
  {
   "cell_type": "code",
   "execution_count": 145,
   "metadata": {},
   "outputs": [
    {
     "data": {
      "text/plain": [
       "scattertext.ParsedCorpus.ParsedCorpus"
      ]
     },
     "execution_count": 145,
     "metadata": {},
     "output_type": "execute_result"
    }
   ],
   "source": [
    "type(corpus_pair)"
   ]
  },
  {
   "cell_type": "code",
   "execution_count": 150,
   "metadata": {},
   "outputs": [],
   "source": [
    "html = produce_scattertext_explorer(corpus_pair,\n",
    "                                    category='P68',\n",
    "                                    #category_name='P68',\n",
    "                                    not_category_name='P69',\n",
    "                                    width_in_pixels=1600,\n",
    "                                    height_in_pixels=900,\n",
    "                                    minimum_term_frequency=5\n",
    "                                    )"
   ]
  },
  {
   "cell_type": "code",
   "execution_count": 151,
   "metadata": {},
   "outputs": [
    {
     "data": {
      "text/plain": [
       "596199"
      ]
     },
     "execution_count": 151,
     "metadata": {},
     "output_type": "execute_result"
    }
   ],
   "source": [
    "file_name = 'patch_68_69.html'\n",
    "open(file_name, 'wb').write(html.encode('utf-8'))"
   ]
  },
  {
   "cell_type": "code",
   "execution_count": null,
   "metadata": {},
   "outputs": [],
   "source": []
  },
  {
   "cell_type": "code",
   "execution_count": null,
   "metadata": {},
   "outputs": [],
   "source": []
  },
  {
   "cell_type": "code",
   "execution_count": null,
   "metadata": {},
   "outputs": [],
   "source": []
  }
 ],
 "metadata": {
  "kernelspec": {
   "display_name": "Python 3",
   "language": "python",
   "name": "python3"
  },
  "language_info": {
   "codemirror_mode": {
    "name": "ipython",
    "version": 3
   },
   "file_extension": ".py",
   "mimetype": "text/x-python",
   "name": "python",
   "nbconvert_exporter": "python",
   "pygments_lexer": "ipython3",
   "version": "3.7.8"
  }
 },
 "nbformat": 4,
 "nbformat_minor": 4
}

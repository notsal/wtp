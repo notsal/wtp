{
 "cells": [
  {
   "cell_type": "markdown",
   "metadata": {},
   "source": [
    "#### To Do\n",
    "* bring in more files\n",
    "* check corpus and freq\n",
    "* use srt for sentences\n",
    "* visualise topics"
   ]
  },
  {
   "cell_type": "code",
   "execution_count": 1,
   "metadata": {},
   "outputs": [],
   "source": [
    "#!pip list"
   ]
  },
  {
   "cell_type": "code",
   "execution_count": 38,
   "metadata": {},
   "outputs": [
    {
     "data": {
      "text/plain": [
       "'C:\\\\Users\\\\Sally\\\\wtp'"
      ]
     },
     "execution_count": 38,
     "metadata": {},
     "output_type": "execute_result"
    }
   ],
   "source": [
    "pwd"
   ]
  },
  {
   "cell_type": "code",
   "execution_count": 39,
   "metadata": {},
   "outputs": [],
   "source": [
    "import pandas as pd\n",
    "from pprint import pprint\n",
    "\n",
    "# Gensim\n",
    "import gensim\n",
    "import gensim.corpora as corpora\n",
    "from gensim.utils import simple_preprocess\n",
    "from gensim.models import CoherenceModel\n",
    "\n",
    "# spacy for lemmatization\n",
    "import spacy\n",
    "\n",
    "# Plotting tools\n",
    "import matplotlib.pyplot as plt\n",
    "get_ipython().run_line_magic('matplotlib', 'inline')"
   ]
  },
  {
   "cell_type": "code",
   "execution_count": 59,
   "metadata": {},
   "outputs": [],
   "source": [
    "pd.options.display.max_rows = 20\n",
    "df = pd.read_csv('C:\\\\Users\\\\Sally\\\\wtp\\\\data\\\\sample.txt',names=['subtitle'])\n",
    "#df = pd.read_csv('C:\\\\Users\\\\Sally\\\\wtp\\\\data\\\\patch69.txt',names=['subtitle'])"
   ]
  },
  {
   "cell_type": "code",
   "execution_count": 51,
   "metadata": {},
   "outputs": [
    {
     "data": {
      "text/html": [
       "<div>\n",
       "<style scoped>\n",
       "    .dataframe tbody tr th:only-of-type {\n",
       "        vertical-align: middle;\n",
       "    }\n",
       "\n",
       "    .dataframe tbody tr th {\n",
       "        vertical-align: top;\n",
       "    }\n",
       "\n",
       "    .dataframe thead th {\n",
       "        text-align: right;\n",
       "    }\n",
       "</style>\n",
       "<table border=\"1\" class=\"dataframe\">\n",
       "  <thead>\n",
       "    <tr style=\"text-align: right;\">\n",
       "      <th></th>\n",
       "      <th>subtitle</th>\n",
       "    </tr>\n",
       "  </thead>\n",
       "  <tbody>\n",
       "    <tr>\n",
       "      <th>0</th>\n",
       "      <td>you</td>\n",
       "    </tr>\n",
       "    <tr>\n",
       "      <th>1</th>\n",
       "      <td>[Music]</td>\n",
       "    </tr>\n",
       "    <tr>\n",
       "      <th>2</th>\n",
       "      <td>[Music]</td>\n",
       "    </tr>\n",
       "    <tr>\n",
       "      <th>3</th>\n",
       "      <td>[Music]</td>\n",
       "    </tr>\n",
       "    <tr>\n",
       "      <th>4</th>\n",
       "      <td>[Music]</td>\n",
       "    </tr>\n",
       "    <tr>\n",
       "      <th>5</th>\n",
       "      <td>[Music]</td>\n",
       "    </tr>\n",
       "    <tr>\n",
       "      <th>6</th>\n",
       "      <td>[Music]</td>\n",
       "    </tr>\n",
       "    <tr>\n",
       "      <th>7</th>\n",
       "      <td>[Music]</td>\n",
       "    </tr>\n",
       "    <tr>\n",
       "      <th>8</th>\n",
       "      <td>[Music]</td>\n",
       "    </tr>\n",
       "    <tr>\n",
       "      <th>9</th>\n",
       "      <td>[Music]</td>\n",
       "    </tr>\n",
       "    <tr>\n",
       "      <th>10</th>\n",
       "      <td>hello good to see there good to see you</td>\n",
       "    </tr>\n",
       "    <tr>\n",
       "      <th>11</th>\n",
       "      <td>digitally through the screen hello</td>\n",
       "    </tr>\n",
       "    <tr>\n",
       "      <th>12</th>\n",
       "      <td>Christian hallowed Deon how are you guys</td>\n",
       "    </tr>\n",
       "    <tr>\n",
       "      <th>13</th>\n",
       "      <td>I thought Joshua we're gonna get from</td>\n",
       "    </tr>\n",
       "    <tr>\n",
       "      <th>14</th>\n",
       "      <td>you a good'n target sounds like the</td>\n",
       "    </tr>\n",
       "    <tr>\n",
       "      <th>15</th>\n",
       "      <td>start of a good antagonism how does a</td>\n",
       "    </tr>\n",
       "    <tr>\n",
       "      <th>16</th>\n",
       "      <td>gutentag start uh it starts like Josh</td>\n",
       "    </tr>\n",
       "    <tr>\n",
       "      <th>17</th>\n",
       "      <td>started it but it doesn't end like that</td>\n",
       "    </tr>\n",
       "    <tr>\n",
       "      <th>18</th>\n",
       "      <td>really good hug it's something that</td>\n",
       "    </tr>\n",
       "    <tr>\n",
       "      <th>19</th>\n",
       "      <td>covers the whole day yeah really good</td>\n",
       "    </tr>\n",
       "  </tbody>\n",
       "</table>\n",
       "</div>"
      ],
      "text/plain": [
       "                                    subtitle\n",
       "0                                        you\n",
       "1                                    [Music]\n",
       "2                                    [Music]\n",
       "3                                    [Music]\n",
       "4                                    [Music]\n",
       "5                                    [Music]\n",
       "6                                    [Music]\n",
       "7                                    [Music]\n",
       "8                                    [Music]\n",
       "9                                    [Music]\n",
       "10   hello good to see there good to see you\n",
       "11        digitally through the screen hello\n",
       "12  Christian hallowed Deon how are you guys\n",
       "13     I thought Joshua we're gonna get from\n",
       "14       you a good'n target sounds like the\n",
       "15     start of a good antagonism how does a\n",
       "16     gutentag start uh it starts like Josh\n",
       "17   started it but it doesn't end like that\n",
       "18       really good hug it's something that\n",
       "19     covers the whole day yeah really good"
      ]
     },
     "execution_count": 51,
     "metadata": {},
     "output_type": "execute_result"
    }
   ],
   "source": [
    "df.head(20)"
   ]
  },
  {
   "cell_type": "code",
   "execution_count": 52,
   "metadata": {},
   "outputs": [
    {
     "data": {
      "text/html": [
       "<div>\n",
       "<style scoped>\n",
       "    .dataframe tbody tr th:only-of-type {\n",
       "        vertical-align: middle;\n",
       "    }\n",
       "\n",
       "    .dataframe tbody tr th {\n",
       "        vertical-align: top;\n",
       "    }\n",
       "\n",
       "    .dataframe thead th {\n",
       "        text-align: right;\n",
       "    }\n",
       "</style>\n",
       "<table border=\"1\" class=\"dataframe\">\n",
       "  <thead>\n",
       "    <tr style=\"text-align: right;\">\n",
       "      <th></th>\n",
       "      <th>subtitle</th>\n",
       "    </tr>\n",
       "  </thead>\n",
       "  <tbody>\n",
       "    <tr>\n",
       "      <th>118</th>\n",
       "      <td>absolute string did you have to send a</td>\n",
       "    </tr>\n",
       "    <tr>\n",
       "      <th>119</th>\n",
       "      <td>photo no they took your word</td>\n",
       "    </tr>\n",
       "    <tr>\n",
       "      <th>120</th>\n",
       "      <td>they took my word yeah try it out it's</td>\n",
       "    </tr>\n",
       "    <tr>\n",
       "      <th>121</th>\n",
       "      <td>great</td>\n",
       "    </tr>\n",
       "    <tr>\n",
       "      <th>122</th>\n",
       "      <td>I ordered a clear spirit which one it</td>\n",
       "    </tr>\n",
       "    <tr>\n",
       "      <th>123</th>\n",
       "      <td>was it was just it was such a good</td>\n",
       "    </tr>\n",
       "    <tr>\n",
       "      <th>124</th>\n",
       "      <td>result what are people saying here in</td>\n",
       "    </tr>\n",
       "    <tr>\n",
       "      <th>125</th>\n",
       "      <td>the life to just before crack into the</td>\n",
       "    </tr>\n",
       "    <tr>\n",
       "      <th>126</th>\n",
       "      <td>episode and Kylie's saying there's a big</td>\n",
       "    </tr>\n",
       "    <tr>\n",
       "      <th>127</th>\n",
       "      <td>prize Shiva you know what's</td>\n",
       "    </tr>\n",
       "  </tbody>\n",
       "</table>\n",
       "</div>"
      ],
      "text/plain": [
       "                                     subtitle\n",
       "118    absolute string did you have to send a\n",
       "119              photo no they took your word\n",
       "120    they took my word yeah try it out it's\n",
       "121                                     great\n",
       "122     I ordered a clear spirit which one it\n",
       "123        was it was just it was such a good\n",
       "124     result what are people saying here in\n",
       "125    the life to just before crack into the\n",
       "126  episode and Kylie's saying there's a big\n",
       "127               prize Shiva you know what's"
      ]
     },
     "execution_count": 52,
     "metadata": {},
     "output_type": "execute_result"
    }
   ],
   "source": [
    "df.tail(10)"
   ]
  },
  {
   "cell_type": "code",
   "execution_count": 53,
   "metadata": {},
   "outputs": [],
   "source": [
    "pd.options.display.max_rows = 50"
   ]
  },
  {
   "cell_type": "code",
   "execution_count": 54,
   "metadata": {},
   "outputs": [
    {
     "data": {
      "text/html": [
       "<div>\n",
       "<style scoped>\n",
       "    .dataframe tbody tr th:only-of-type {\n",
       "        vertical-align: middle;\n",
       "    }\n",
       "\n",
       "    .dataframe tbody tr th {\n",
       "        vertical-align: top;\n",
       "    }\n",
       "\n",
       "    .dataframe thead th {\n",
       "        text-align: right;\n",
       "    }\n",
       "</style>\n",
       "<table border=\"1\" class=\"dataframe\">\n",
       "  <thead>\n",
       "    <tr style=\"text-align: right;\">\n",
       "      <th></th>\n",
       "      <th>subtitle</th>\n",
       "    </tr>\n",
       "  </thead>\n",
       "  <tbody>\n",
       "    <tr>\n",
       "      <th>0</th>\n",
       "      <td>you</td>\n",
       "    </tr>\n",
       "    <tr>\n",
       "      <th>1</th>\n",
       "      <td>[Music]</td>\n",
       "    </tr>\n",
       "    <tr>\n",
       "      <th>2</th>\n",
       "      <td>[Music]</td>\n",
       "    </tr>\n",
       "    <tr>\n",
       "      <th>3</th>\n",
       "      <td>[Music]</td>\n",
       "    </tr>\n",
       "    <tr>\n",
       "      <th>4</th>\n",
       "      <td>[Music]</td>\n",
       "    </tr>\n",
       "    <tr>\n",
       "      <th>...</th>\n",
       "      <td>...</td>\n",
       "    </tr>\n",
       "    <tr>\n",
       "      <th>123</th>\n",
       "      <td>was it was just it was such a good</td>\n",
       "    </tr>\n",
       "    <tr>\n",
       "      <th>124</th>\n",
       "      <td>result what are people saying here in</td>\n",
       "    </tr>\n",
       "    <tr>\n",
       "      <th>125</th>\n",
       "      <td>the life to just before crack into the</td>\n",
       "    </tr>\n",
       "    <tr>\n",
       "      <th>126</th>\n",
       "      <td>episode and Kylie's saying there's a big</td>\n",
       "    </tr>\n",
       "    <tr>\n",
       "      <th>127</th>\n",
       "      <td>prize Shiva you know what's</td>\n",
       "    </tr>\n",
       "  </tbody>\n",
       "</table>\n",
       "<p>128 rows × 1 columns</p>\n",
       "</div>"
      ],
      "text/plain": [
       "                                     subtitle\n",
       "0                                         you\n",
       "1                                     [Music]\n",
       "2                                     [Music]\n",
       "3                                     [Music]\n",
       "4                                     [Music]\n",
       "..                                        ...\n",
       "123        was it was just it was such a good\n",
       "124     result what are people saying here in\n",
       "125    the life to just before crack into the\n",
       "126  episode and Kylie's saying there's a big\n",
       "127               prize Shiva you know what's\n",
       "\n",
       "[128 rows x 1 columns]"
      ]
     },
     "execution_count": 54,
     "metadata": {},
     "output_type": "execute_result"
    }
   ],
   "source": [
    "df"
   ]
  },
  {
   "cell_type": "code",
   "execution_count": 55,
   "metadata": {},
   "outputs": [
    {
     "name": "stdout",
     "output_type": "stream",
     "text": [
      "                                     subtitle\n",
      "0                                         you\n",
      "1                                     [Music]\n",
      "2                                     [Music]\n",
      "3                                     [Music]\n",
      "4                                     [Music]\n",
      "..                                        ...\n",
      "123        was it was just it was such a good\n",
      "124     result what are people saying here in\n",
      "125    the life to just before crack into the\n",
      "126  episode and Kylie's saying there's a big\n",
      "127               prize Shiva you know what's\n",
      "\n",
      "[128 rows x 1 columns]\n"
     ]
    }
   ],
   "source": [
    "print(df)"
   ]
  },
  {
   "cell_type": "code",
   "execution_count": 56,
   "metadata": {},
   "outputs": [
    {
     "data": {
      "text/plain": [
       "128"
      ]
     },
     "execution_count": 56,
     "metadata": {},
     "output_type": "execute_result"
    }
   ],
   "source": [
    "len(df)"
   ]
  },
  {
   "cell_type": "code",
   "execution_count": 57,
   "metadata": {},
   "outputs": [],
   "source": [
    "data = df.subtitle.values.tolist()"
   ]
  },
  {
   "cell_type": "code",
   "execution_count": 58,
   "metadata": {},
   "outputs": [
    {
     "data": {
      "text/plain": [
       "['you',\n",
       " '[Music]',\n",
       " '[Music]',\n",
       " '[Music]',\n",
       " '[Music]',\n",
       " '[Music]',\n",
       " '[Music]',\n",
       " '[Music]',\n",
       " '[Music]',\n",
       " '[Music]',\n",
       " 'hello good to see there good to see you',\n",
       " 'digitally through the screen hello',\n",
       " 'Christian hallowed Deon how are you guys',\n",
       " \"I thought Joshua we're gonna get from\",\n",
       " \"you a good'n target sounds like the\",\n",
       " 'start of a good antagonism how does a',\n",
       " 'gutentag start uh it starts like Josh',\n",
       " \"started it but it doesn't end like that\",\n",
       " \"really good hug it's something that\",\n",
       " 'covers the whole day yeah really good',\n",
       " \"also if you see some graffiti and it's\",\n",
       " \"just really really great it's a good\",\n",
       " 'touch pretty good did you have a tag',\n",
       " 'when you were younger',\n",
       " 'uh I used to write my initials JP in',\n",
       " 'like a cool way so I would do the J and',\n",
       " 'then off the back neck of the J I would',\n",
       " \"do the curve of the P ah that's\",\n",
       " 'interesting actually fun fact about my',\n",
       " 'signature the D in my signature is',\n",
       " \"exactly or inspired by my mum's D in her\",\n",
       " 'signature surely we all take inspiration',\n",
       " 'from our parents signatures right my',\n",
       " \"dad's really my my tag at school Dion\",\n",
       " 'was oil rig it was which which stands',\n",
       " 'for oxidation is loss of electrons and',\n",
       " 'reduction is gain of electrons Christian',\n",
       " 'surely you were trying not to get',\n",
       " 'bullied at school not to increase the',\n",
       " 'chances of that happening I was already',\n",
       " 'an overweight ethnic but you were but',\n",
       " 'you were am worried like a captain of',\n",
       " 'something yes did you respect it you',\n",
       " 'were bullied and respected at the same',\n",
       " 'time yes great thing on your tombstone',\n",
       " 'the other thing I wanted to talk about',\n",
       " 'is I speak to my mom yesterday and she',\n",
       " 'was telling me of a an attempted rooibos',\n",
       " 'and I use the word attempted because',\n",
       " \"it's it's not been going well but I\",\n",
       " \"thought I'd bring it up you know those\",\n",
       " 'coffee pods and you get your packet on',\n",
       " 'with like you know 10 in a packet or',\n",
       " 'whatever she bought one of these from',\n",
       " 'a local supermarket and a couple of them',\n",
       " 'were like hard and had like broken',\n",
       " 'whatever however they break they broke',\n",
       " 'ground they were rock hard so you',\n",
       " 'talking back it was like oh hey these',\n",
       " \"these ones are busted and they're guys\",\n",
       " \"like well where's the rest of them it's\",\n",
       " 'like well how you meant to know that',\n",
       " \"they're broke like they don't work until\",\n",
       " 'you get to the broken ones right that',\n",
       " 'artwork yeah yeah and then so that is',\n",
       " 'like well you have to send it back so',\n",
       " 'the company so then moms emailed the',\n",
       " 'company being ok I got this product is',\n",
       " 'this thing can you send us a photo',\n",
       " 'please ok so keep in mind through all of',\n",
       " 'this they cost less than about 5 bucks',\n",
       " 'how can how can you send a photo of',\n",
       " 'something feeling rock-hard and then',\n",
       " 'okay can you can you post it out to us',\n",
       " \"and it's just like and then the worst\",\n",
       " \"and we'll send you a voucher shocking\",\n",
       " 'just for something so cheap that could',\n",
       " 'have been such a great customer',\n",
       " \"experience they've just they've just\",\n",
       " \"don't have a name how much was the\",\n",
       " 'voucher worth I presume would be the',\n",
       " \"cost of one of their products I don't\",\n",
       " \"know what I don't know what the voucher\",\n",
       " 'is if you go to the supermarket go hey I',\n",
       " 'have a voucher for this specific company',\n",
       " 'you know what Josh that is not something',\n",
       " 'that you would consider a big prize',\n",
       " '[Laughter]',\n",
       " \"thank you so much we'll get started soon\",\n",
       " 'the only reference we might have to be',\n",
       " 'prised actually I can see in the chat',\n",
       " 'that there had been a few references to',\n",
       " 'the big prize for those of you who',\n",
       " \"aren't aware of the big prize you'll\",\n",
       " 'have to stick around right till the end',\n",
       " 'because there will be no further mention',\n",
       " 'of said big prize until the big reveal',\n",
       " 'of the big prize the other thing I',\n",
       " 'wanted to mention just Josh in regards',\n",
       " 'that failed failed rooibos I ordered',\n",
       " \"some gin via damn if he's very bound Dan\",\n",
       " 'Murphys ordered it and was really',\n",
       " 'excited took ages to arrive open up the',\n",
       " 'packet and it was a bottle of vodka um',\n",
       " 'so I called them and I first a message',\n",
       " 'then I was getting to this back and',\n",
       " 'forth bother this so I just call them I',\n",
       " 'said hey I would actually you know what',\n",
       " \"I'm gonna do I'd like to keep this vodka\",\n",
       " \"cuz it's good vodka only vodka at home\",\n",
       " 'and just post and just post out the the',\n",
       " \"gene that's fine now like that's cool\",\n",
       " 'just keep the vodka you know to pay for',\n",
       " 'it no problem',\n",
       " 'was that they just slept they just said',\n",
       " \"look we fucked up there's the there's\",\n",
       " \"the vodka and we'll post you out the\",\n",
       " 'chin as well I am on a streak I am on an',\n",
       " 'absolute string did you have to send a',\n",
       " 'photo no they took your word',\n",
       " \"they took my word yeah try it out it's\",\n",
       " 'great',\n",
       " 'I ordered a clear spirit which one it',\n",
       " 'was it was just it was such a good',\n",
       " 'result what are people saying here in',\n",
       " 'the life to just before crack into the',\n",
       " \"episode and Kylie's saying there's a big\",\n",
       " \"prize Shiva you know what's\"]"
      ]
     },
     "execution_count": 58,
     "metadata": {},
     "output_type": "execute_result"
    }
   ],
   "source": [
    "data"
   ]
  },
  {
   "cell_type": "code",
   "execution_count": 63,
   "metadata": {},
   "outputs": [
    {
     "name": "stderr",
     "output_type": "stream",
     "text": [
      "[nltk_data] Downloading package stopwords to\n",
      "[nltk_data]     C:\\Users\\Sally\\AppData\\Roaming\\nltk_data...\n",
      "[nltk_data]   Unzipping corpora\\stopwords.zip.\n"
     ]
    },
    {
     "data": {
      "text/plain": [
       "True"
      ]
     },
     "execution_count": 63,
     "metadata": {},
     "output_type": "execute_result"
    }
   ],
   "source": [
    "import nltk\n",
    "nltk.download('stopwords')"
   ]
  },
  {
   "cell_type": "code",
   "execution_count": 64,
   "metadata": {},
   "outputs": [],
   "source": [
    "#prepare the stopwords\n",
    "# NLTK Stop words\n",
    "from nltk.corpus import stopwords\n",
    "stop_words = stopwords.words('english')\n",
    "#stop_words.extend(['from', 'subject', 're', 'edu', 'use'])"
   ]
  },
  {
   "cell_type": "code",
   "execution_count": 65,
   "metadata": {},
   "outputs": [
    {
     "data": {
      "text/plain": [
       "['i',\n",
       " 'me',\n",
       " 'my',\n",
       " 'myself',\n",
       " 'we',\n",
       " 'our',\n",
       " 'ours',\n",
       " 'ourselves',\n",
       " 'you',\n",
       " \"you're\",\n",
       " \"you've\",\n",
       " \"you'll\",\n",
       " \"you'd\",\n",
       " 'your',\n",
       " 'yours',\n",
       " 'yourself',\n",
       " 'yourselves',\n",
       " 'he',\n",
       " 'him',\n",
       " 'his',\n",
       " 'himself',\n",
       " 'she',\n",
       " \"she's\",\n",
       " 'her',\n",
       " 'hers',\n",
       " 'herself',\n",
       " 'it',\n",
       " \"it's\",\n",
       " 'its',\n",
       " 'itself',\n",
       " 'they',\n",
       " 'them',\n",
       " 'their',\n",
       " 'theirs',\n",
       " 'themselves',\n",
       " 'what',\n",
       " 'which',\n",
       " 'who',\n",
       " 'whom',\n",
       " 'this',\n",
       " 'that',\n",
       " \"that'll\",\n",
       " 'these',\n",
       " 'those',\n",
       " 'am',\n",
       " 'is',\n",
       " 'are',\n",
       " 'was',\n",
       " 'were',\n",
       " 'be',\n",
       " 'been',\n",
       " 'being',\n",
       " 'have',\n",
       " 'has',\n",
       " 'had',\n",
       " 'having',\n",
       " 'do',\n",
       " 'does',\n",
       " 'did',\n",
       " 'doing',\n",
       " 'a',\n",
       " 'an',\n",
       " 'the',\n",
       " 'and',\n",
       " 'but',\n",
       " 'if',\n",
       " 'or',\n",
       " 'because',\n",
       " 'as',\n",
       " 'until',\n",
       " 'while',\n",
       " 'of',\n",
       " 'at',\n",
       " 'by',\n",
       " 'for',\n",
       " 'with',\n",
       " 'about',\n",
       " 'against',\n",
       " 'between',\n",
       " 'into',\n",
       " 'through',\n",
       " 'during',\n",
       " 'before',\n",
       " 'after',\n",
       " 'above',\n",
       " 'below',\n",
       " 'to',\n",
       " 'from',\n",
       " 'up',\n",
       " 'down',\n",
       " 'in',\n",
       " 'out',\n",
       " 'on',\n",
       " 'off',\n",
       " 'over',\n",
       " 'under',\n",
       " 'again',\n",
       " 'further',\n",
       " 'then',\n",
       " 'once',\n",
       " 'here',\n",
       " 'there',\n",
       " 'when',\n",
       " 'where',\n",
       " 'why',\n",
       " 'how',\n",
       " 'all',\n",
       " 'any',\n",
       " 'both',\n",
       " 'each',\n",
       " 'few',\n",
       " 'more',\n",
       " 'most',\n",
       " 'other',\n",
       " 'some',\n",
       " 'such',\n",
       " 'no',\n",
       " 'nor',\n",
       " 'not',\n",
       " 'only',\n",
       " 'own',\n",
       " 'same',\n",
       " 'so',\n",
       " 'than',\n",
       " 'too',\n",
       " 'very',\n",
       " 's',\n",
       " 't',\n",
       " 'can',\n",
       " 'will',\n",
       " 'just',\n",
       " 'don',\n",
       " \"don't\",\n",
       " 'should',\n",
       " \"should've\",\n",
       " 'now',\n",
       " 'd',\n",
       " 'll',\n",
       " 'm',\n",
       " 'o',\n",
       " 're',\n",
       " 've',\n",
       " 'y',\n",
       " 'ain',\n",
       " 'aren',\n",
       " \"aren't\",\n",
       " 'couldn',\n",
       " \"couldn't\",\n",
       " 'didn',\n",
       " \"didn't\",\n",
       " 'doesn',\n",
       " \"doesn't\",\n",
       " 'hadn',\n",
       " \"hadn't\",\n",
       " 'hasn',\n",
       " \"hasn't\",\n",
       " 'haven',\n",
       " \"haven't\",\n",
       " 'isn',\n",
       " \"isn't\",\n",
       " 'ma',\n",
       " 'mightn',\n",
       " \"mightn't\",\n",
       " 'mustn',\n",
       " \"mustn't\",\n",
       " 'needn',\n",
       " \"needn't\",\n",
       " 'shan',\n",
       " \"shan't\",\n",
       " 'shouldn',\n",
       " \"shouldn't\",\n",
       " 'wasn',\n",
       " \"wasn't\",\n",
       " 'weren',\n",
       " \"weren't\",\n",
       " 'won',\n",
       " \"won't\",\n",
       " 'wouldn',\n",
       " \"wouldn't\"]"
      ]
     },
     "execution_count": 65,
     "metadata": {},
     "output_type": "execute_result"
    }
   ],
   "source": [
    "stop_words"
   ]
  },
  {
   "cell_type": "code",
   "execution_count": 69,
   "metadata": {},
   "outputs": [
    {
     "name": "stdout",
     "output_type": "stream",
     "text": [
      "['prised', 'actually', 'can', 'see', 'in', 'the', 'chat']\n"
     ]
    }
   ],
   "source": [
    "def sent_to_words(sentences):\n",
    "    for sentence in sentences:\n",
    "        yield(gensim.utils.simple_preprocess(str(sentence), deacc=True))  # deacc=True removes punctuations\n",
    "\n",
    "data_words = list(sent_to_words(data))\n",
    "\n",
    "print(data_words[90])"
   ]
  },
  {
   "cell_type": "code",
   "execution_count": 70,
   "metadata": {},
   "outputs": [
    {
     "name": "stdout",
     "output_type": "stream",
     "text": [
      "['prised', 'actually', 'can', 'see', 'in', 'the', 'chat']\n"
     ]
    }
   ],
   "source": [
    "# Build the bigram and trigram models\n",
    "bigram = gensim.models.Phrases(data_words, min_count=5, threshold=100) # higher threshold fewer phrases.\n",
    "trigram = gensim.models.Phrases(bigram[data_words], threshold=100)  \n",
    "\n",
    "# Faster way to get a sentence clubbed as a trigram/bigram\n",
    "bigram_mod = gensim.models.phrases.Phraser(bigram)\n",
    "trigram_mod = gensim.models.phrases.Phraser(trigram)\n",
    "\n",
    "# See trigram example\n",
    "print(trigram_mod[bigram_mod[data_words[90]]])"
   ]
  },
  {
   "cell_type": "code",
   "execution_count": 71,
   "metadata": {},
   "outputs": [],
   "source": [
    "# Define functions for stopwords, bigrams, trigrams and lemmatization\n",
    "def remove_stopwords(texts):\n",
    "    return [[word for word in simple_preprocess(str(doc)) if word not in stop_words] for doc in texts]\n",
    "\n",
    "def make_bigrams(texts):\n",
    "    return [bigram_mod[doc] for doc in texts]\n",
    "\n",
    "def make_trigrams(texts):\n",
    "    return [trigram_mod[bigram_mod[doc]] for doc in texts]\n",
    "\n",
    "def lemmatization(texts, allowed_postags=['NOUN', 'ADJ', 'VERB', 'ADV']):\n",
    "    \"\"\"https://spacy.io/api/annotation\"\"\"\n",
    "    texts_out = []\n",
    "    for sent in texts:\n",
    "        doc = nlp(\" \".join(sent)) \n",
    "        texts_out.append([token.lemma_ for token in doc if token.pos_ in allowed_postags])\n",
    "    return texts_out\n",
    "\n",
    "# Remove Stop Words\n",
    "data_words_nostops = remove_stopwords(data_words)\n",
    "\n",
    "# Form Bigrams\n",
    "data_words_bigrams = make_bigrams(data_words_nostops)\n"
   ]
  },
  {
   "cell_type": "code",
   "execution_count": 72,
   "metadata": {},
   "outputs": [
    {
     "data": {
      "text/plain": [
       "[[],\n",
       " ['music'],\n",
       " ['music'],\n",
       " ['music'],\n",
       " ['music'],\n",
       " ['music'],\n",
       " ['music'],\n",
       " ['music'],\n",
       " ['music'],\n",
       " ['music'],\n",
       " ['hello', 'good', 'see', 'good', 'see'],\n",
       " ['digitally', 'screen', 'hello'],\n",
       " ['christian', 'hallowed', 'deon', 'guys'],\n",
       " ['thought', 'joshua', 'gonna', 'get'],\n",
       " ['good', 'target', 'sounds', 'like'],\n",
       " ['start', 'good', 'antagonism'],\n",
       " ['gutentag', 'start', 'uh', 'starts', 'like', 'josh'],\n",
       " ['started', 'end', 'like'],\n",
       " ['really', 'good', 'hug', 'something'],\n",
       " ['covers', 'whole', 'day', 'yeah', 'really', 'good'],\n",
       " ['also', 'see', 'graffiti'],\n",
       " ['really', 'really', 'great', 'good'],\n",
       " ['touch', 'pretty', 'good', 'tag'],\n",
       " ['younger'],\n",
       " ['uh', 'used', 'write', 'initials', 'jp'],\n",
       " ['like', 'cool', 'way', 'would'],\n",
       " ['back', 'neck', 'would'],\n",
       " ['curve', 'ah'],\n",
       " ['interesting', 'actually', 'fun', 'fact'],\n",
       " ['signature', 'signature'],\n",
       " ['exactly', 'inspired', 'mum'],\n",
       " ['signature', 'surely', 'take', 'inspiration'],\n",
       " ['parents', 'signatures', 'right'],\n",
       " ['dad', 'really', 'tag', 'school', 'dion'],\n",
       " ['oil', 'rig', 'stands'],\n",
       " ['oxidation', 'loss', 'electrons'],\n",
       " ['reduction', 'gain', 'electrons', 'christian'],\n",
       " ['surely', 'trying', 'get'],\n",
       " ['bullied', 'school', 'increase'],\n",
       " ['chances', 'happening', 'already'],\n",
       " ['overweight', 'ethnic'],\n",
       " ['worried', 'like', 'captain'],\n",
       " ['something', 'yes', 'respect'],\n",
       " ['bullied', 'respected'],\n",
       " ['time', 'yes', 'great', 'thing', 'tombstone'],\n",
       " ['thing', 'wanted', 'talk'],\n",
       " ['speak', 'mom', 'yesterday'],\n",
       " ['telling', 'attempted', 'rooibos'],\n",
       " ['use', 'word', 'attempted'],\n",
       " ['going', 'well'],\n",
       " ['thought', 'bring', 'know'],\n",
       " ['coffee', 'pods', 'get', 'packet'],\n",
       " ['like', 'know', 'packet'],\n",
       " ['whatever', 'bought', 'one'],\n",
       " ['local', 'supermarket', 'couple'],\n",
       " ['like', 'hard', 'like', 'broken'],\n",
       " ['whatever', 'however', 'break', 'broke'],\n",
       " ['ground', 'rock', 'hard'],\n",
       " ['talking', 'back', 'like', 'oh', 'hey'],\n",
       " ['ones', 'busted', 'guys'],\n",
       " ['like', 'well', 'rest'],\n",
       " ['like', 'well', 'meant', 'know'],\n",
       " ['broke', 'like', 'work'],\n",
       " ['get', 'broken', 'ones', 'right'],\n",
       " ['artwork', 'yeah', 'yeah'],\n",
       " ['like', 'well', 'send', 'back'],\n",
       " ['company', 'moms', 'emailed'],\n",
       " ['company', 'ok', 'got', 'product'],\n",
       " ['thing', 'send', 'us', 'photo'],\n",
       " ['please', 'ok', 'keep', 'mind'],\n",
       " ['cost', 'less', 'bucks'],\n",
       " ['send', 'photo'],\n",
       " ['something', 'feeling', 'rock', 'hard'],\n",
       " ['okay', 'post', 'us'],\n",
       " ['like', 'worst'],\n",
       " ['send', 'voucher', 'shocking'],\n",
       " ['something', 'cheap', 'could'],\n",
       " ['great', 'customer'],\n",
       " ['experience'],\n",
       " ['name', 'much'],\n",
       " ['voucher', 'worth', 'presume', 'would'],\n",
       " ['cost', 'one', 'products'],\n",
       " ['know', 'know', 'voucher'],\n",
       " ['go', 'supermarket', 'go', 'hey'],\n",
       " ['voucher', 'specific', 'company'],\n",
       " ['know', 'josh', 'something'],\n",
       " ['would', 'consider', 'big', 'prize'],\n",
       " ['laughter'],\n",
       " ['thank', 'much', 'get', 'started', 'soon'],\n",
       " ['reference', 'might'],\n",
       " ['prised', 'actually', 'see', 'chat'],\n",
       " ['references'],\n",
       " ['big', 'prize'],\n",
       " ['aware', 'big', 'prize'],\n",
       " ['stick', 'around', 'right', 'till', 'end'],\n",
       " ['mention'],\n",
       " ['said', 'big', 'prize', 'big', 'reveal'],\n",
       " ['big', 'prize', 'thing'],\n",
       " ['wanted', 'mention', 'josh', 'regards'],\n",
       " ['failed', 'failed', 'rooibos', 'ordered'],\n",
       " ['gin', 'via', 'damn', 'bound', 'dan'],\n",
       " ['murphys', 'ordered', 'really'],\n",
       " ['excited', 'took', 'ages', 'arrive', 'open'],\n",
       " ['packet', 'bottle', 'vodka', 'um'],\n",
       " ['called', 'first', 'message'],\n",
       " ['getting', 'back'],\n",
       " ['forth', 'bother', 'call'],\n",
       " ['said', 'hey', 'would', 'actually', 'know'],\n",
       " ['gonna', 'like', 'keep', 'vodka'],\n",
       " ['cuz', 'good', 'vodka', 'vodka', 'home'],\n",
       " ['post', 'post'],\n",
       " ['gene', 'fine', 'like', 'cool'],\n",
       " ['keep', 'vodka', 'know', 'pay'],\n",
       " ['problem'],\n",
       " ['slept', 'said'],\n",
       " ['look', 'fucked'],\n",
       " ['vodka', 'post'],\n",
       " ['chin', 'well', 'streak'],\n",
       " ['absolute', 'string', 'send'],\n",
       " ['photo', 'took', 'word'],\n",
       " ['took', 'word', 'yeah', 'try'],\n",
       " ['great'],\n",
       " ['ordered', 'clear', 'spirit', 'one'],\n",
       " ['good'],\n",
       " ['result', 'people', 'saying'],\n",
       " ['life', 'crack'],\n",
       " ['episode', 'kylie', 'saying', 'big'],\n",
       " ['prize', 'shiva', 'know']]"
      ]
     },
     "execution_count": 72,
     "metadata": {},
     "output_type": "execute_result"
    }
   ],
   "source": [
    "data_words_nostops"
   ]
  },
  {
   "cell_type": "code",
   "execution_count": 77,
   "metadata": {},
   "outputs": [],
   "source": [
    "import en_core_web_sm"
   ]
  },
  {
   "cell_type": "code",
   "execution_count": 78,
   "metadata": {},
   "outputs": [],
   "source": [
    "nlp = en_core_web_sm.load()"
   ]
  },
  {
   "cell_type": "code",
   "execution_count": 79,
   "metadata": {},
   "outputs": [],
   "source": [
    "# Initialize spacy 'en' model, keeping only tagger component (for efficiency)\n",
    "# python -m spacy download en\n",
    "#nlp = spacy.load('en', disable=['parser', 'ner'])\n",
    "#nlp = spacy.load('en_core_web_sm')\n",
    "#nlp = spacy.load('en_core_web_sm', disable=['parser', 'ner'])\n",
    "#spacy.load('en_core_web_sm')"
   ]
  },
  {
   "cell_type": "code",
   "execution_count": 81,
   "metadata": {},
   "outputs": [
    {
     "name": "stdout",
     "output_type": "stream",
     "text": [
      "[[], ['music'], ['music'], ['music'], ['music'], ['music'], ['music'], ['music'], ['music'], ['music'], ['good', 'see', 'good', 'see'], ['digitally', 'screen'], ['deon', 'guy'], [], ['good', 'target', 'sound'], ['start', 'good', 'antagonism'], ['start', 'start'], ['start', 'end'], ['really', 'good'], ['cover', 'whole', 'day', 'really', 'good'], ['also', 'see'], ['really', 'really', 'great', 'good'], ['touch', 'pretty', 'good', 'tag'], ['young'], ['use', 'write', 'initial', 'jp'], ['cool', 'way', 'would'], ['back', 'neck', 'would'], ['curve'], ['interesting', 'actually', 'fun', 'fact'], ['signature', 'signature'], ['exactly', 'inspire'], ['signature', 'surely', 'take', 'inspiration'], ['parent', 'signature', 'right'], ['really', 'tag', 'school', 'dion'], ['oil', 'rig', 'stand'], ['oxidation', 'loss', 'electron'], ['reduction'], ['surely', 'try', 'get'], ['bully', 'school', 'increase'], ['chance', 'happen', 'already'], ['overweight', 'ethnic'], ['worried', 'captain'], ['respect'], ['bully', 'respected'], ['time', 'great', 'thing', 'tombstone'], ['thing', 'want', 'talk'], ['speak', 'mom', 'yesterday'], ['tell', 'attempt'], ['use', 'word', 'attempt'], ['go', 'well'], ['thought', 'bring', 'know'], ['coffee', 'pod', 'get', 'packet'], ['know', 'packet'], ['buy'], ['local', 'supermarket', 'couple'], ['hard', 'break'], ['however', 'break', 'break'], ['hard'], ['talk', 'back'], ['one', 'bust', 'guy'], ['rest'], ['well', 'mean', 'know'], ['broke', 'work'], ['broken', 'one', 'right'], [], ['send', 'back'], ['company', 'mom', 'email'], ['company', 'get', 'product'], ['thing', 'send', 'photo'], ['keep', 'mind'], ['cost', 'less', 'buck'], ['send', 'photo'], ['feel', 'rock', 'hard'], ['post'], ['bad'], ['send', 'voucher', 'shocking'], ['cheap', 'could'], ['great', 'customer'], ['experience'], ['name', 'much'], ['would'], ['cost', 'product'], ['know', 'know', 'voucher'], ['go', 'supermarket', 'go', 'hey'], ['voucher', 'specific', 'company'], ['know'], ['would', 'consider', 'big', 'prize'], ['laughter'], ['thank', 'much', 'get', 'start', 'soon'], ['reference', 'may'], ['prise', 'actually', 'see'], ['reference'], [], ['aware', 'prize'], ['stick', 'around', 'right', 'end'], ['mention'], ['say'], ['prize', 'thing'], ['want', 'regard'], ['fail', 'fail', 'rooibos', 'order'], ['gin'], ['order', 'really'], ['take', 'age', 'arrive', 'open'], ['packet', 'bottle', 'vodka'], ['call', 'first', 'message'], ['get', 'back'], ['call'], ['say', 'would', 'actually', 'know'], ['go', 'keep', 'vodka'], ['good', 'vodka', 'vodka', 'home'], [], ['cool'], ['keep', 'vodka', 'know', 'pay'], ['problem'], ['say'], ['look', 'fucked'], [], [], ['absolute', 'string', 'send'], ['photo', 'take', 'word'], ['take', 'word', 'try'], ['great'], ['order'], ['good'], ['result', 'people', 'say'], [], ['say', 'big'], []]\n"
     ]
    }
   ],
   "source": [
    "# Do lemmatization keeping only noun, adj, vb, adv\n",
    "data_lemmatized = lemmatization(data_words_bigrams, allowed_postags=['NOUN', 'ADJ', 'VERB', 'ADV'])\n",
    "\n",
    "print(data_lemmatized)"
   ]
  },
  {
   "cell_type": "code",
   "execution_count": 83,
   "metadata": {},
   "outputs": [
    {
     "name": "stdout",
     "output_type": "stream",
     "text": [
      "[[]]\n"
     ]
    }
   ],
   "source": [
    "id2word = corpora.Dictionary(data_lemmatized)\n",
    "\n",
    "# Create Corpus\n",
    "texts = data_lemmatized\n",
    "\n",
    "# Term Document Frequency\n",
    "corpus = [id2word.doc2bow(text) for text in texts]\n",
    "\n",
    "# View\n",
    "print(corpus[:1])"
   ]
  },
  {
   "cell_type": "code",
   "execution_count": 92,
   "metadata": {},
   "outputs": [
    {
     "data": {
      "text/plain": [
       "159"
      ]
     },
     "execution_count": 92,
     "metadata": {},
     "output_type": "execute_result"
    }
   ],
   "source": [
    "len(id2word)"
   ]
  },
  {
   "cell_type": "code",
   "execution_count": 91,
   "metadata": {},
   "outputs": [
    {
     "data": {
      "text/plain": [
       "'see'"
      ]
     },
     "execution_count": 91,
     "metadata": {},
     "output_type": "execute_result"
    }
   ],
   "source": [
    "id2word[2]"
   ]
  },
  {
   "cell_type": "code",
   "execution_count": 87,
   "metadata": {},
   "outputs": [
    {
     "data": {
      "text/plain": [
       "128"
      ]
     },
     "execution_count": 87,
     "metadata": {},
     "output_type": "execute_result"
    }
   ],
   "source": [
    "len(texts)"
   ]
  },
  {
   "cell_type": "code",
   "execution_count": 86,
   "metadata": {},
   "outputs": [
    {
     "data": {
      "text/plain": [
       "128"
      ]
     },
     "execution_count": 86,
     "metadata": {},
     "output_type": "execute_result"
    }
   ],
   "source": [
    "len(corpus)"
   ]
  },
  {
   "cell_type": "markdown",
   "metadata": {},
   "source": [
    "* get zip file from http://mallet.cs.umass.edu/download.php\n",
    "* unzip to somewhere\n",
    "* set environment variable %MALLET_HOME%\n",
    "* alternatively, os.environ['MALLET_HOME'] = 'C:\\\\Users\\\\huang\\\\Downloads\\\\mallet\\\\mallet-2.0.8'"
   ]
  },
  {
   "cell_type": "code",
   "execution_count": 105,
   "metadata": {},
   "outputs": [],
   "source": [
    "import os\n",
    "mallet_path = \"C:/Users/Sally/wtp/mallet-2.0.8/bin/mallet\"   \n",
    "ldamallet = gensim.models.wrappers.LdaMallet(mallet_path, corpus=corpus, num_topics=10, id2word=id2word)"
   ]
  },
  {
   "cell_type": "code",
   "execution_count": 106,
   "metadata": {},
   "outputs": [
    {
     "name": "stdout",
     "output_type": "stream",
     "text": [
      "\n",
      "Coherence Score:  0.7982376451977702\n"
     ]
    }
   ],
   "source": [
    "# Compute Coherence Score\n",
    "coherence_model_ldamallet = CoherenceModel(model=ldamallet, texts=data_lemmatized, dictionary=id2word, coherence='c_v')\n",
    "coherence_ldamallet = coherence_model_ldamallet.get_coherence()\n",
    "print('\\nCoherence Score: ', coherence_ldamallet)"
   ]
  },
  {
   "cell_type": "code",
   "execution_count": 108,
   "metadata": {},
   "outputs": [
    {
     "name": "stdout",
     "output_type": "stream",
     "text": [
      "[(0,\n",
      "  [('word', 0.13636363636363635),\n",
      "   ('company', 0.13636363636363635),\n",
      "   ('photo', 0.09090909090909091),\n",
      "   ('product', 0.09090909090909091),\n",
      "   ('increase', 0.045454545454545456),\n",
      "   ('age', 0.045454545454545456),\n",
      "   ('gin', 0.045454545454545456),\n",
      "   ('captain', 0.045454545454545456),\n",
      "   ('cool', 0.045454545454545456),\n",
      "   ('respect', 0.045454545454545456)]),\n",
      " (1,\n",
      "  [('good', 0.37037037037037035),\n",
      "   ('start', 0.18518518518518517),\n",
      "   ('break', 0.1111111111111111),\n",
      "   ('stand', 0.037037037037037035),\n",
      "   ('stick', 0.037037037037037035),\n",
      "   ('tag', 0.037037037037037035),\n",
      "   ('feel', 0.037037037037037035),\n",
      "   ('interesting', 0.037037037037037035),\n",
      "   ('guy', 0.037037037037037035),\n",
      "   ('couple', 0.037037037037037035)]),\n",
      " (2,\n",
      "  [('back', 0.15789473684210525),\n",
      "   ('order', 0.10526315789473684),\n",
      "   ('happen', 0.05263157894736842),\n",
      "   ('open', 0.05263157894736842),\n",
      "   ('pretty', 0.05263157894736842),\n",
      "   ('inspire', 0.05263157894736842),\n",
      "   ('touch', 0.05263157894736842),\n",
      "   ('cool', 0.05263157894736842),\n",
      "   ('photo', 0.05263157894736842),\n",
      "   ('regard', 0.05263157894736842)]),\n",
      " (3,\n",
      "  [('reference', 0.18181818181818182),\n",
      "   ('voucher', 0.18181818181818182),\n",
      "   ('supermarket', 0.09090909090909091),\n",
      "   ('arrive', 0.09090909090909091),\n",
      "   ('dion', 0.09090909090909091),\n",
      "   ('guy', 0.09090909090909091),\n",
      "   ('mom', 0.09090909090909091),\n",
      "   ('big', 0.09090909090909091),\n",
      "   ('specific', 0.09090909090909091),\n",
      "   ('mind', 0.0)]),\n",
      " (4,\n",
      "  [('vodka', 0.2631578947368421),\n",
      "   ('cost', 0.10526315789473684),\n",
      "   ('great', 0.10526315789473684),\n",
      "   ('time', 0.05263157894736842),\n",
      "   ('experience', 0.05263157894736842),\n",
      "   ('message', 0.05263157894736842),\n",
      "   ('electron', 0.05263157894736842),\n",
      "   ('shocking', 0.05263157894736842),\n",
      "   ('result', 0.05263157894736842),\n",
      "   ('surely', 0.05263157894736842)]),\n",
      " (5,\n",
      "  [('prize', 0.13043478260869565),\n",
      "   ('call', 0.08695652173913043),\n",
      "   ('fail', 0.08695652173913043),\n",
      "   ('broken', 0.043478260869565216),\n",
      "   ('bottle', 0.043478260869565216),\n",
      "   ('tag', 0.043478260869565216),\n",
      "   ('order', 0.043478260869565216),\n",
      "   ('ethnic', 0.043478260869565216),\n",
      "   ('mention', 0.043478260869565216),\n",
      "   ('respected', 0.043478260869565216)]),\n",
      " (6,\n",
      "  [('send', 0.22727272727272727),\n",
      "   ('packet', 0.13636363636363635),\n",
      "   ('bully', 0.09090909090909091),\n",
      "   ('great', 0.09090909090909091),\n",
      "   ('oil', 0.045454545454545456),\n",
      "   ('cheap', 0.045454545454545456),\n",
      "   ('fact', 0.045454545454545456),\n",
      "   ('mind', 0.045454545454545456),\n",
      "   ('bad', 0.045454545454545456),\n",
      "   ('tombstone', 0.045454545454545456)]),\n",
      " (7,\n",
      "  [('thing', 0.19047619047619047),\n",
      "   ('attempt', 0.09523809523809523),\n",
      "   ('school', 0.09523809523809523),\n",
      "   ('fun', 0.047619047619047616),\n",
      "   ('pod', 0.047619047619047616),\n",
      "   ('write', 0.047619047619047616),\n",
      "   ('voucher', 0.047619047619047616),\n",
      "   ('hey', 0.047619047619047616),\n",
      "   ('loss', 0.047619047619047616),\n",
      "   ('signature', 0.047619047619047616)]),\n",
      " (8,\n",
      "  [('hard', 0.15384615384615385),\n",
      "   ('overweight', 0.07692307692307693),\n",
      "   ('big', 0.07692307692307693),\n",
      "   ('laughter', 0.07692307692307693),\n",
      "   ('prise', 0.07692307692307693),\n",
      "   ('chance', 0.07692307692307693),\n",
      "   ('work', 0.07692307692307693),\n",
      "   ('rest', 0.07692307692307693),\n",
      "   ('bust', 0.07692307692307693),\n",
      "   ('customer', 0.07692307692307693)]),\n",
      " (9,\n",
      "  [('music', 0.391304347826087),\n",
      "   ('signature', 0.13043478260869565),\n",
      "   ('talk', 0.08695652173913043),\n",
      "   ('local', 0.043478260869565216),\n",
      "   ('parent', 0.043478260869565216),\n",
      "   ('oxidation', 0.043478260869565216),\n",
      "   ('young', 0.043478260869565216),\n",
      "   ('broke', 0.043478260869565216),\n",
      "   ('hard', 0.043478260869565216),\n",
      "   ('aware', 0.043478260869565216)])]\n"
     ]
    }
   ],
   "source": [
    "pprint(ldamallet.show_topics(formatted=False))"
   ]
  },
  {
   "cell_type": "markdown",
   "metadata": {},
   "source": [
    "### below took like 10 mins to run"
   ]
  },
  {
   "cell_type": "code",
   "execution_count": 109,
   "metadata": {},
   "outputs": [
    {
     "data": {
      "image/png": "[encoded data removed]",
      "text/plain": [
       "<Figure size 432x288 with 1 Axes>"
      ]
     },
     "metadata": {
      "needs_background": "light"
     },
     "output_type": "display_data"
    },
    {
     "name": "stdout",
     "output_type": "stream",
     "text": [
      "Num Topics = 2  has Coherence Value of 0.8112\n",
      "Num Topics = 4  has Coherence Value of 0.8157\n",
      "Num Topics = 6  has Coherence Value of 0.8171\n",
      "Num Topics = 8  has Coherence Value of 0.8177\n",
      "Num Topics = 10  has Coherence Value of 0.8007\n",
      "Num Topics = 12  has Coherence Value of 0.7899\n",
      "Num Topics = 14  has Coherence Value of 0.7853\n",
      "Num Topics = 16  has Coherence Value of 0.7679\n",
      "Num Topics = 18  has Coherence Value of 0.7705\n",
      "Num Topics = 20  has Coherence Value of 0.7682\n"
     ]
    }
   ],
   "source": [
    "def compute_coherence_values(dictionary, corpus, texts, limit, start=2, step=3):\n",
    "    \"\"\"\n",
    "    Compute c_v coherence for various number of topics\n",
    "\n",
    "    Parameters:\n",
    "    ----------\n",
    "    dictionary : Gensim dictionary\n",
    "    corpus : Gensim corpus\n",
    "    texts : List of input texts\n",
    "    limit : Max num of topics\n",
    "\n",
    "    Returns:\n",
    "    -------\n",
    "    model_list : List of LDA topic models\n",
    "    coherence_values : Coherence values corresponding to the LDA model with respective number of topics\n",
    "    \"\"\"\n",
    "    coherence_values = []\n",
    "    model_list = []\n",
    "    for num_topics in range(start, limit, step):\n",
    "        model = gensim.models.wrappers.LdaMallet(mallet_path, corpus=corpus, num_topics=num_topics, id2word=id2word)\n",
    "        model_list.append(model)\n",
    "        coherencemodel = CoherenceModel(model=model, texts=texts, dictionary=dictionary, coherence='c_v')\n",
    "        coherence_values.append(coherencemodel.get_coherence())\n",
    "\n",
    "    return model_list, coherence_values\n",
    "\n",
    "limit=21; start=2; step=2;\n",
    "\n",
    "# Can take a long time to run.\n",
    "model_list, coherence_values = compute_coherence_values(dictionary=id2word, corpus=corpus, texts=data_lemmatized, start=start, limit=limit, step=step)\n",
    "\n",
    "# Show graph\n",
    "x = range(start, limit, step)\n",
    "plt.plot(x, coherence_values)\n",
    "plt.xlabel(\"Num Topics\")\n",
    "plt.ylabel(\"Coherence score\")\n",
    "plt.legend((\"coherence_values\"), loc='best')\n",
    "plt.show()\n",
    "\n",
    "for m, cv in zip(x, coherence_values):\n",
    "    print(\"Num Topics =\", m, \" has Coherence Value of\", round(cv, 4))"
   ]
  },
  {
   "cell_type": "code",
   "execution_count": 110,
   "metadata": {},
   "outputs": [
    {
     "name": "stdout",
     "output_type": "stream",
     "text": [
      "fin\n"
     ]
    }
   ],
   "source": [
    "print('fin')"
   ]
  },
  {
   "cell_type": "code",
   "execution_count": null,
   "metadata": {},
   "outputs": [],
   "source": []
  }
 ],
 "metadata": {
  "kernelspec": {
   "display_name": "Python 3",
   "language": "python",
   "name": "python3"
  },
  "language_info": {
   "codemirror_mode": {
    "name": "ipython",
    "version": 3
   },
   "file_extension": ".py",
   "mimetype": "text/x-python",
   "name": "python",
   "nbconvert_exporter": "python",
   "pygments_lexer": "ipython3",
   "version": "3.7.8"
  }
 },
 "nbformat": 4,
 "nbformat_minor": 4
}
